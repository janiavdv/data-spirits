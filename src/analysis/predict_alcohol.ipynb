{
 "cells": [
  {
   "cell_type": "code",
   "execution_count": 1,
   "metadata": {},
   "outputs": [],
   "source": [
    "import sqlite3\n",
    "import numpy as np\n",
    "import pandas as pd\n",
    "import xgboost\n",
    "from sklearn.linear_model import LinearRegression\n",
    "from sklearn.metrics import mean_squared_error\n",
    "from sklearn.compose import ColumnTransformer\n",
    "from sklearn.preprocessing import StandardScaler, OneHotEncoder, MinMaxScaler\n",
    "from sklearn.model_selection import TimeSeriesSplit\n",
    "from sklearn.pipeline import make_pipeline"
   ]
  },
  {
   "cell_type": "code",
   "execution_count": 63,
   "metadata": {},
   "outputs": [
    {
     "name": "stdout",
     "output_type": "stream",
     "text": [
      "   year    state beverage_type   gallons\n",
      "0  1970  Alabama       Spirits   3863000\n",
      "1  1970  Alabama          Wine   1412000\n",
      "2  1970  Alabama          Beer  33098000\n",
      "3  1970   Alaska       Spirits    945000\n",
      "4  1970   Alaska          Wine    470000\n",
      "<class 'pandas.core.frame.DataFrame'>\n",
      "RangeIndex: 7956 entries, 0 to 7955\n",
      "Data columns (total 4 columns):\n",
      " #   Column         Non-Null Count  Dtype \n",
      "---  ------         --------------  ----- \n",
      " 0   year           7956 non-null   int64 \n",
      " 1   state          7956 non-null   object\n",
      " 2   beverage_type  7956 non-null   object\n",
      " 3   gallons        7956 non-null   int64 \n",
      "dtypes: int64(2), object(2)\n",
      "memory usage: 248.8+ KB\n"
     ]
    }
   ],
   "source": [
    "conn = sqlite3.connect('../../data/data.db')\n",
    "# select everything from alcohol where the year is 2021 or less\n",
    "query = 'SELECT * FROM alcohol WHERE year <= 2021'\n",
    "original = pd.read_sql_query(query, conn)\n",
    "df = original\n",
    "print(df.head())\n",
    "df.info()"
   ]
  },
  {
   "cell_type": "code",
   "execution_count": 64,
   "metadata": {},
   "outputs": [],
   "source": [
    "# List of dataframes to test on\n",
    "data_list = []\n",
    "state_btype_model = {}\n",
    "for state in df['state'].unique():\n",
    "    temp = df[df['state'] == state]\n",
    "    for btype in temp['beverage_type'].unique():\n",
    "        state_btype_model[(state, btype)] = []\n",
    "        data_list.append(temp[temp['beverage_type'] == btype])"
   ]
  },
  {
   "cell_type": "markdown",
   "metadata": {},
   "source": [
    "# CV Pipeline & Preprocessing"
   ]
  },
  {
   "cell_type": "code",
   "execution_count": 65,
   "metadata": {},
   "outputs": [],
   "source": [
    "from sklearn.model_selection import GridSearchCV\n",
    "from sklearn.model_selection import ParameterGrid\n",
    "\n",
    "def MLpipe_TSS_MSE_TEST(X, y, preprocessor, ML_algo, param_grid):\n",
    "\n",
    "    n_splits = 5\n",
    "    # splits = [0.5, 0.55, 0.60, 0.65, 0.70, 0.75, 0.80, 0.85, 0.90, 0.95]\n",
    "    # diff = 0.05\n",
    "    splits = [0.5, 0.6, 0.7, 0.8, 0.9]\n",
    "    diff = 0.10\n",
    "    \n",
    "    scores = []\n",
    "    true = []\n",
    "    pred = []\n",
    "    best_models = []\n",
    "    best_params = []\n",
    "    \n",
    "    for i in splits:\n",
    "        start = int(X.shape[0]*i)\n",
    "        end = int(X.shape[0]*(i+diff))\n",
    "        X_other = X[0: start]\n",
    "        X_test = X[start:end-1]\n",
    "        y_other = y[0:start]\n",
    "        y_test = y[start:end-1]\n",
    "        tscv = TimeSeriesSplit(n_splits=n_splits)\n",
    "        pipe = make_pipeline(preprocessor, ML_algo)\n",
    "\n",
    "        # -1 jobs means using all processors\n",
    "        # mean_squared_error doesn't exists, so we use `neg`\n",
    "        grid = GridSearchCV(pipe, param_grid = param_grid, scoring='neg_mean_squared_error', cv=tscv, return_train_score = True,\n",
    "                            n_jobs = -1, verbose=False)\n",
    "        \n",
    "        grid.fit(X_other, y_other)\n",
    "        y_pred = grid.predict(X_test)\n",
    "        score = mean_squared_error(y_test, y_pred)\n",
    "        # percet_error = np.mean(np.abs(y_test - y_pred ) / y_pred)\n",
    "        scores.append(score)\n",
    "        true.append(y_test)\n",
    "        pred.append(y_pred)\n",
    "        best_models.append(grid)\n",
    "        best_params.append(grid.best_params_)\n",
    "    return scores, true, pred, best_models, best_params"
   ]
  },
  {
   "cell_type": "code",
   "execution_count": 66,
   "metadata": {},
   "outputs": [],
   "source": [
    "# Cell to encode data use onehot, minmax, and standard\n",
    "minmax_ftrs = ['year']\n",
    "\n",
    "# collect all the encoders\n",
    "preprocessor = ColumnTransformer(\n",
    "    transformers=[\n",
    "        ('minmax', MinMaxScaler(), minmax_ftrs)\n",
    "    ])"
   ]
  },
  {
   "cell_type": "markdown",
   "metadata": {},
   "source": [
    "# Models"
   ]
  },
  {
   "cell_type": "code",
   "execution_count": 67,
   "metadata": {},
   "outputs": [],
   "source": [
    "# test your function with a linear regression model (l1 regularization)\n",
    "from sklearn.linear_model import Lasso\n",
    "\n",
    "for df in data_list:\n",
    "    state = df['state'].unique()[0]\n",
    "    type = df['beverage_type'].unique()[0]\n",
    "    y = df['gallons']\n",
    "    X = df.drop(['gallons', 'state', 'beverage_type'], axis=1)\n",
    "    param_grid = {\n",
    "        'lasso__alpha': np.logspace(-2, 2, 21)  # we use logspace since values can go up to inf\n",
    "    }\n",
    "    # print(\"Linear Regression w/ l1\")\n",
    "    l1_scores, l1_true, l1_pred, l1_best_models, l1_best_params = MLpipe_TSS_MSE_TEST(X, y, preprocessor, Lasso(max_iter=1000000), param_grid)\n",
    "    max_index = np.argmax(np.array(l1_scores))\n",
    "    state_btype_model[(state, type)].append((l1_scores[max_index], l1_best_models[max_index], \"Lasso\"))"
   ]
  },
  {
   "cell_type": "code",
   "execution_count": 25,
   "metadata": {},
   "outputs": [],
   "source": [
    "# Here the prints are just to track how long the model takes, can ignore\n",
    "# for df in data_list:\n",
    "#     state = df['state'].unique()[0]\n",
    "#     type = df['beverage_type'].unique()[0]\n",
    "#     y = df['gallons']\n",
    "#     X = df.drop(['gallons', 'state', 'beverage_type'], axis=1)\n",
    "#     param_grid = {\n",
    "#         'xgbregressor__n_estimators': [10, 100, 1000],\n",
    "#         'xgbregressor__max_depth': [5, 6]\n",
    "#     }\n",
    "#     xgb_scores, xgb_true, xgb_pred, xgb_best_models, xgb_best_params = MLpipe_TSS_MSE_TEST(X, y, preprocessor, xgboost.XGBRegressor(), param_grid)\n",
    "#     max_index = np.argmax(np.array(xgb_scores))\n",
    "#     state_btype_model[(state, type)].append((xgb_scores[max_index], xgb_best_models[max_index], \"XGB\"))"
   ]
  },
  {
   "cell_type": "code",
   "execution_count": 68,
   "metadata": {},
   "outputs": [],
   "source": [
    "from sklearn.linear_model import Ridge\n",
    "for df in data_list:\n",
    "    state = df['state'].unique()[0]\n",
    "    type = df['beverage_type'].unique()[0]\n",
    "    y = df['gallons']\n",
    "    X = df.drop(['gallons', 'state', 'beverage_type'], axis=1)\n",
    "    param_grid = {\n",
    "        'ridge__alpha': np.logspace(-2, 2, 21) # we use logspace since values can go up to inf\n",
    "    }\n",
    "    l2_scores, l2_true, l2_pred, l2_best_models, l2_best_params = MLpipe_TSS_MSE_TEST(X, y, preprocessor, Ridge(), param_grid)\n",
    "    max_index = np.argmax(np.array(l2_scores))\n",
    "    state_btype_model[(state, type)].append((l2_scores[max_index], l2_best_models[max_index], \"Ridge\"))"
   ]
  },
  {
   "cell_type": "code",
   "execution_count": 69,
   "metadata": {},
   "outputs": [],
   "source": [
    "from sklearn.linear_model import ElasticNet\n",
    "for df in data_list:\n",
    "    state = df['state'].unique()[0]\n",
    "    type = df['beverage_type'].unique()[0]\n",
    "    y = df['gallons']\n",
    "    X = df.drop(['gallons', 'state', 'beverage_type'], axis=1)\n",
    "    param_grid = {\n",
    "        'elasticnet__alpha': 1/np.logspace(-2, 2, 5),\n",
    "        'elasticnet__l1_ratio': [0.1, 0.2, 0.3, 0.4, 0.5, 0.6, 0.7, 0.8, 0.9, 1]\n",
    "    }\n",
    "    en_scores, en_true, en_pred, en_best_models, en_best_params = MLpipe_TSS_MSE_TEST(X, y, preprocessor, ElasticNet(max_iter=5000), param_grid)\n",
    "    max_index = np.argmax(np.array(en_scores))\n",
    "    state_btype_model[(state, type)].append((en_scores[max_index], en_best_models[max_index], \"Elactic Net\"))"
   ]
  },
  {
   "cell_type": "code",
   "execution_count": 72,
   "metadata": {},
   "outputs": [],
   "source": [
    "import random\n",
    "def list_argmin(l):\n",
    "    best = l[0]\n",
    "    best_ind = 0\n",
    "    for i, x in enumerate(l):\n",
    "        if x[0] < best[0]:\n",
    "            best_ind = i\n",
    "            best = x\n",
    "    return best_ind, best\n",
    "\n",
    "predicted_data = []\n",
    "for state in original['state'].unique():\n",
    "    for btype in original['beverage_type'].unique():\n",
    "        index, (score, best_model, name) = list_argmin(state_btype_model[(state, btype)])\n",
    "        # (score, best_model, name) = random.choice(state_btype_model[(state, btype)])\n",
    "        for year in [2022, 2023, 2024]:\n",
    "            dataframe = pd.DataFrame([year], columns=['year'])\n",
    "            gallons = best_model.predict(dataframe)[0]\n",
    "            predicted_data.append((year, state, btype, int(gallons)))"
   ]
  },
  {
   "cell_type": "code",
   "execution_count": 73,
   "metadata": {},
   "outputs": [
    {
     "name": "stdout",
     "output_type": "stream",
     "text": [
      "2022 California Spirits 48782104\n",
      "2023 California Spirits 48782071\n",
      "2024 California Spirits 48782038\n",
      "2022 California Wine 132382051\n",
      "2023 California Wine 133342584\n",
      "2024 California Wine 134303117\n",
      "2022 California Beer 692251942\n",
      "2023 California Beer 695041290\n",
      "2024 California Beer 697830638\n"
     ]
    }
   ],
   "source": [
    "for add in predicted_data:\n",
    "    year, state, btype, gallons = add\n",
    "    if state == 'California':\n",
    "        print(year, state, btype, gallons)\n"
   ]
  },
  {
   "cell_type": "code",
   "execution_count": 74,
   "metadata": {},
   "outputs": [],
   "source": [
    "# remove data from 2022-2024 to prevent duplicates\n",
    "delete_statement = \"DELETE FROM alcohol WHERE year >= 2022\"\n",
    "c = conn.cursor()\n",
    "c.execute(delete_statement)\n",
    "conn.commit()\n",
    "insert_statement = \"INSERT INTO alcohol (year, state, beverage_type, gallons) VALUES (?, ?, ?, ?)\"\n",
    "c = conn.cursor()\n",
    "c.executemany(insert_statement, predicted_data)\n",
    "conn.commit()"
   ]
  }
 ],
 "metadata": {
  "kernelspec": {
   "display_name": "base",
   "language": "python",
   "name": "python3"
  },
  "language_info": {
   "codemirror_mode": {
    "name": "ipython",
    "version": 3
   },
   "file_extension": ".py",
   "mimetype": "text/x-python",
   "name": "python",
   "nbconvert_exporter": "python",
   "pygments_lexer": "ipython3",
   "version": "3.11.4"
  }
 },
 "nbformat": 4,
 "nbformat_minor": 2
}
